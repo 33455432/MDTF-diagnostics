{
 "cells": [
  {
   "cell_type": "code",
   "execution_count": 1,
   "metadata": {},
   "outputs": [],
   "source": [
    "import os\n",
    "import src.data_manager as data_manager\n",
    "import src.gfdl as gfdl\n",
    "import src.util as util\n",
    "import src.datelabel as datelabel\n",
    "import src.shared_diagnostic as shared_diagnostic\n",
    "import yaml"
   ]
  },
  {
   "cell_type": "code",
   "execution_count": 2,
   "metadata": {},
   "outputs": [],
   "source": [
    "default_args = util.read_yaml('./src/config.yml')\n",
    "cmdline_args = {'CODE_ROOT':os.getcwd()}\n",
    "test_dir = '/archive/oar.gfdl.cmip6/CM4/warsaw_201710_om4_v1.0.1/CM4_historical/gfdl.ncrc4-intel16-prod-openmp/pp'\n",
    "test_case = {\n",
    "    'CASENAME': 'CM4_historical', 'model': 'CM4', \n",
    "     'variable_convention': 'CMIP',\n",
    "    'FIRSTYR': 1970, 'LASTYR': 1989,\n",
    "    'pod_list': []\n",
    "}\n",
    "test_varlist = [\n",
    "    {'var_name':'rlut', 'freq':'day'},\n",
    "    {'var_name':'pr', 'freq':'day'},\n",
    "    {'var_name':'omega500', 'freq':'day'},\n",
    "    {'var_name':'u200', 'freq':'day'},\n",
    "    {'var_name':'u850', 'freq':'day'}\n",
    "]"
   ]
  },
  {
   "cell_type": "code",
   "execution_count": 3,
   "metadata": {},
   "outputs": [],
   "source": [
    "config = util.parse_mdtf_args(None, cmdline_args, default_args)\n",
    "util.PathManager(config['paths'])\n",
    "dm = gfdl.GfdlppDataManager(test_dir, test_case)\n",
    "pod = shared_diagnostic.Diagnostic('Wheeler_Kiladis')"
   ]
  },
  {
   "cell_type": "code",
   "execution_count": 4,
   "metadata": {},
   "outputs": [],
   "source": [
    "dm.pods = [pod]\n",
    "for pod in dm.pods:\n",
    "    dm._setup_pod(pod)"
   ]
  },
  {
   "cell_type": "code",
   "execution_count": 6,
   "metadata": {},
   "outputs": [
    {
     "name": "stdout",
     "output_type": "stream",
     "text": [
      "DataSet({'CF_name': 'rlut_var', 'requirement': 'required', 'name': 'rlut_var', 'date_freq': DateFrequency('1da'), 'required': True, 'date_range': DateRange('1970-1989'), 'remote_resource': None, 'var_name': 'rlut_var', 'name_in_model': 'rlut', 'units': None, 'freq': 'day', 'local_resource': '/local2/home/MDTF/inputdata/model/CM4_historical/day/CM4_historical.rlut.day.nc', 'alternates': []})\n"
     ]
    }
   ],
   "source": [
    "ds = dm.pods[0].varlist[0].copy()\n",
    "print ds"
   ]
  },
  {
   "cell_type": "code",
   "execution_count": 7,
   "metadata": {},
   "outputs": [
    {
     "name": "stdout",
     "output_type": "stream",
     "text": [
      "DataSet({'CF_name': 'rlut_var', 'requirement': 'required', 'name': 'rlut_var', 'date_freq': DateFrequency('1da'), 'required': True, 'date_range': DateRange('1970-1989'), 'remote_resource': [DataSet({'end_date': '19741231', 'date_freq': DateFrequency('1da'), 'component': 'atmos_cmip_2deg_daily_2D', 'date_range': DateRange('19700101-19741231'), 'remote_resource': 'atmos_cmip_2deg_daily_2D/ts/daily/5yr/atmos_cmip_2deg_daily_2D.19700101-19741231.rlut.nc', 'file': 'atmos_cmip_2deg_daily_2D.19700101-19741231.rlut.nc', 'field_name': 'rlut', 'local_resource': None, 'name': None, 'chunk_freq': DateFrequency('5yr'), 'component2': 'atmos_cmip_2deg_daily_2D', 'units': None, 'start_date': '19700101', 'dir': 'atmos_cmip_2deg_daily_2D/ts/daily/5yr'}), DataSet({'end_date': '19791231', 'date_freq': DateFrequency('1da'), 'component': 'atmos_cmip_2deg_daily_2D', 'date_range': DateRange('19750101-19791231'), 'remote_resource': 'atmos_cmip_2deg_daily_2D/ts/daily/5yr/atmos_cmip_2deg_daily_2D.19750101-19791231.rlut.nc', 'file': 'atmos_cmip_2deg_daily_2D.19750101-19791231.rlut.nc', 'field_name': 'rlut', 'local_resource': None, 'name': None, 'chunk_freq': DateFrequency('5yr'), 'component2': 'atmos_cmip_2deg_daily_2D', 'units': None, 'start_date': '19750101', 'dir': 'atmos_cmip_2deg_daily_2D/ts/daily/5yr'}), DataSet({'end_date': '19841231', 'date_freq': DateFrequency('1da'), 'component': 'atmos_cmip_2deg_daily_2D', 'date_range': DateRange('19800101-19841231'), 'remote_resource': 'atmos_cmip_2deg_daily_2D/ts/daily/5yr/atmos_cmip_2deg_daily_2D.19800101-19841231.rlut.nc', 'file': 'atmos_cmip_2deg_daily_2D.19800101-19841231.rlut.nc', 'field_name': 'rlut', 'local_resource': None, 'name': None, 'chunk_freq': DateFrequency('5yr'), 'component2': 'atmos_cmip_2deg_daily_2D', 'units': None, 'start_date': '19800101', 'dir': 'atmos_cmip_2deg_daily_2D/ts/daily/5yr'}), DataSet({'end_date': '19891231', 'date_freq': DateFrequency('1da'), 'component': 'atmos_cmip_2deg_daily_2D', 'date_range': DateRange('19850101-19891231'), 'remote_resource': 'atmos_cmip_2deg_daily_2D/ts/daily/5yr/atmos_cmip_2deg_daily_2D.19850101-19891231.rlut.nc', 'file': 'atmos_cmip_2deg_daily_2D.19850101-19891231.rlut.nc', 'field_name': 'rlut', 'local_resource': None, 'name': None, 'chunk_freq': DateFrequency('5yr'), 'component2': 'atmos_cmip_2deg_daily_2D', 'units': None, 'start_date': '19850101', 'dir': 'atmos_cmip_2deg_daily_2D/ts/daily/5yr'}), DataSet({'end_date': '19741231', 'date_freq': DateFrequency('1da'), 'component': 'atmos_cmip', 'date_range': DateRange('19700101-19741231'), 'remote_resource': 'atmos_cmip/ts/daily/5yr/atmos_cmip.19700101-19741231.rlut.nc', 'file': 'atmos_cmip.19700101-19741231.rlut.nc', 'field_name': 'rlut', 'local_resource': None, 'name': None, 'chunk_freq': DateFrequency('5yr'), 'component2': 'atmos_cmip', 'units': None, 'start_date': '19700101', 'dir': 'atmos_cmip/ts/daily/5yr'}), DataSet({'end_date': '19791231', 'date_freq': DateFrequency('1da'), 'component': 'atmos_cmip', 'date_range': DateRange('19750101-19791231'), 'remote_resource': 'atmos_cmip/ts/daily/5yr/atmos_cmip.19750101-19791231.rlut.nc', 'file': 'atmos_cmip.19750101-19791231.rlut.nc', 'field_name': 'rlut', 'local_resource': None, 'name': None, 'chunk_freq': DateFrequency('5yr'), 'component2': 'atmos_cmip', 'units': None, 'start_date': '19750101', 'dir': 'atmos_cmip/ts/daily/5yr'}), DataSet({'end_date': '19841231', 'date_freq': DateFrequency('1da'), 'component': 'atmos_cmip', 'date_range': DateRange('19800101-19841231'), 'remote_resource': 'atmos_cmip/ts/daily/5yr/atmos_cmip.19800101-19841231.rlut.nc', 'file': 'atmos_cmip.19800101-19841231.rlut.nc', 'field_name': 'rlut', 'local_resource': None, 'name': None, 'chunk_freq': DateFrequency('5yr'), 'component2': 'atmos_cmip', 'units': None, 'start_date': '19800101', 'dir': 'atmos_cmip/ts/daily/5yr'}), DataSet({'end_date': '19891231', 'date_freq': DateFrequency('1da'), 'component': 'atmos_cmip', 'date_range': DateRange('19850101-19891231'), 'remote_resource': 'atmos_cmip/ts/daily/5yr/atmos_cmip.19850101-19891231.rlut.nc', 'file': 'atmos_cmip.19850101-19891231.rlut.nc', 'field_name': 'rlut', 'local_resource': None, 'name': None, 'chunk_freq': DateFrequency('5yr'), 'component2': 'atmos_cmip', 'units': None, 'start_date': '19850101', 'dir': 'atmos_cmip/ts/daily/5yr'})], 'var_name': 'rlut_var', 'name_in_model': 'rlut', 'units': None, 'freq': 'day', 'local_resource': '/local2/home/MDTF/inputdata/model/CM4_historical/day/CM4_historical.rlut.day.nc', 'alternates': []})\n"
     ]
    }
   ],
   "source": [
    "dm.query_dataset(ds)\n",
    "print ds"
   ]
  },
  {
   "cell_type": "code",
   "execution_count": 8,
   "metadata": {},
   "outputs": [
    {
     "data": {
      "text/plain": [
       "['atmos_cmip/ts/daily/5yr/atmos_cmip.18550101-18591231.rlut.nc',\n",
       " 'atmos_cmip/ts/daily/5yr/atmos_cmip.18500101-18541231.rlut.nc',\n",
       " 'atmos_cmip/ts/daily/5yr/atmos_cmip.18600101-18641231.rlut.nc',\n",
       " 'atmos_cmip/ts/daily/5yr/atmos_cmip.18650101-18691231.rlut.nc',\n",
       " 'atmos_cmip/ts/daily/5yr/atmos_cmip.18700101-18741231.rlut.nc',\n",
       " 'atmos_cmip/ts/daily/5yr/atmos_cmip.18750101-18791231.rlut.nc',\n",
       " 'atmos_cmip/ts/daily/5yr/atmos_cmip.18800101-18841231.rlut.nc',\n",
       " 'atmos_cmip/ts/daily/5yr/atmos_cmip.18850101-18891231.rlut.nc',\n",
       " 'atmos_cmip/ts/daily/5yr/atmos_cmip.18900101-18941231.rlut.nc',\n",
       " 'atmos_cmip/ts/daily/5yr/atmos_cmip.18950101-18991231.rlut.nc',\n",
       " 'atmos_cmip/ts/daily/5yr/atmos_cmip.19000101-19041231.rlut.nc',\n",
       " 'atmos_cmip/ts/daily/5yr/atmos_cmip.19050101-19091231.rlut.nc',\n",
       " 'atmos_cmip/ts/daily/5yr/atmos_cmip.19100101-19141231.rlut.nc',\n",
       " 'atmos_cmip/ts/daily/5yr/atmos_cmip.19150101-19191231.rlut.nc',\n",
       " 'atmos_cmip/ts/daily/5yr/atmos_cmip.19200101-19241231.rlut.nc',\n",
       " 'atmos_cmip/ts/daily/5yr/atmos_cmip.19250101-19291231.rlut.nc',\n",
       " 'atmos_cmip/ts/daily/5yr/atmos_cmip.19300101-19341231.rlut.nc',\n",
       " 'atmos_cmip/ts/daily/5yr/atmos_cmip.19350101-19391231.rlut.nc',\n",
       " 'atmos_cmip/ts/daily/5yr/atmos_cmip.19400101-19441231.rlut.nc',\n",
       " 'atmos_cmip/ts/daily/5yr/atmos_cmip.19450101-19491231.rlut.nc',\n",
       " 'atmos_cmip/ts/daily/5yr/atmos_cmip.19500101-19541231.rlut.nc',\n",
       " 'atmos_cmip/ts/daily/5yr/atmos_cmip.19550101-19591231.rlut.nc',\n",
       " 'atmos_cmip/ts/daily/5yr/atmos_cmip.19600101-19641231.rlut.nc',\n",
       " 'atmos_cmip/ts/daily/5yr/atmos_cmip.19650101-19691231.rlut.nc',\n",
       " 'atmos_cmip/ts/daily/5yr/atmos_cmip.19700101-19741231.rlut.nc',\n",
       " 'atmos_cmip/ts/daily/5yr/atmos_cmip.19750101-19791231.rlut.nc',\n",
       " 'atmos_cmip/ts/daily/5yr/atmos_cmip.19800101-19841231.rlut.nc',\n",
       " 'atmos_cmip/ts/daily/5yr/atmos_cmip.19850101-19891231.rlut.nc',\n",
       " 'atmos_cmip/ts/daily/5yr/atmos_cmip.19900101-19941231.rlut.nc',\n",
       " 'atmos_cmip/ts/daily/5yr/atmos_cmip.19950101-19991231.rlut.nc',\n",
       " 'atmos_cmip/ts/daily/5yr/atmos_cmip.20000101-20041231.rlut.nc',\n",
       " 'atmos_cmip/ts/daily/5yr/atmos_cmip.20050101-20091231.rlut.nc',\n",
       " 'atmos_cmip/ts/daily/5yr/atmos_cmip.20100101-20141231.rlut.nc',\n",
       " 'atmos_cmip/ts/daily/35yr/atmos_cmip.19800101-20141231.rlut.nc',\n",
       " 'atmos_cmip_2deg_daily_2D/ts/daily/5yr/atmos_cmip_2deg_daily_2D.18500101-18541231.rlut.nc',\n",
       " 'atmos_cmip_2deg_daily_2D/ts/daily/5yr/atmos_cmip_2deg_daily_2D.18550101-18591231.rlut.nc',\n",
       " 'atmos_cmip_2deg_daily_2D/ts/daily/5yr/atmos_cmip_2deg_daily_2D.18600101-18641231.rlut.nc',\n",
       " 'atmos_cmip_2deg_daily_2D/ts/daily/5yr/atmos_cmip_2deg_daily_2D.18650101-18691231.rlut.nc',\n",
       " 'atmos_cmip_2deg_daily_2D/ts/daily/5yr/atmos_cmip_2deg_daily_2D.18700101-18741231.rlut.nc',\n",
       " 'atmos_cmip_2deg_daily_2D/ts/daily/5yr/atmos_cmip_2deg_daily_2D.18750101-18791231.rlut.nc',\n",
       " 'atmos_cmip_2deg_daily_2D/ts/daily/5yr/atmos_cmip_2deg_daily_2D.18800101-18841231.rlut.nc',\n",
       " 'atmos_cmip_2deg_daily_2D/ts/daily/5yr/atmos_cmip_2deg_daily_2D.18850101-18891231.rlut.nc',\n",
       " 'atmos_cmip_2deg_daily_2D/ts/daily/5yr/atmos_cmip_2deg_daily_2D.18900101-18941231.rlut.nc',\n",
       " 'atmos_cmip_2deg_daily_2D/ts/daily/5yr/atmos_cmip_2deg_daily_2D.18950101-18991231.rlut.nc',\n",
       " 'atmos_cmip_2deg_daily_2D/ts/daily/5yr/atmos_cmip_2deg_daily_2D.19000101-19041231.rlut.nc',\n",
       " 'atmos_cmip_2deg_daily_2D/ts/daily/5yr/atmos_cmip_2deg_daily_2D.19050101-19091231.rlut.nc',\n",
       " 'atmos_cmip_2deg_daily_2D/ts/daily/5yr/atmos_cmip_2deg_daily_2D.19100101-19141231.rlut.nc',\n",
       " 'atmos_cmip_2deg_daily_2D/ts/daily/5yr/atmos_cmip_2deg_daily_2D.19150101-19191231.rlut.nc',\n",
       " 'atmos_cmip_2deg_daily_2D/ts/daily/5yr/atmos_cmip_2deg_daily_2D.19200101-19241231.rlut.nc',\n",
       " 'atmos_cmip_2deg_daily_2D/ts/daily/5yr/atmos_cmip_2deg_daily_2D.19250101-19291231.rlut.nc',\n",
       " 'atmos_cmip_2deg_daily_2D/ts/daily/5yr/atmos_cmip_2deg_daily_2D.19300101-19341231.rlut.nc',\n",
       " 'atmos_cmip_2deg_daily_2D/ts/daily/5yr/atmos_cmip_2deg_daily_2D.19350101-19391231.rlut.nc',\n",
       " 'atmos_cmip_2deg_daily_2D/ts/daily/5yr/atmos_cmip_2deg_daily_2D.19400101-19441231.rlut.nc',\n",
       " 'atmos_cmip_2deg_daily_2D/ts/daily/5yr/atmos_cmip_2deg_daily_2D.19450101-19491231.rlut.nc',\n",
       " 'atmos_cmip_2deg_daily_2D/ts/daily/5yr/atmos_cmip_2deg_daily_2D.19500101-19541231.rlut.nc',\n",
       " 'atmos_cmip_2deg_daily_2D/ts/daily/5yr/atmos_cmip_2deg_daily_2D.19550101-19591231.rlut.nc',\n",
       " 'atmos_cmip_2deg_daily_2D/ts/daily/5yr/atmos_cmip_2deg_daily_2D.19600101-19641231.rlut.nc',\n",
       " 'atmos_cmip_2deg_daily_2D/ts/daily/5yr/atmos_cmip_2deg_daily_2D.19650101-19691231.rlut.nc',\n",
       " 'atmos_cmip_2deg_daily_2D/ts/daily/5yr/atmos_cmip_2deg_daily_2D.19700101-19741231.rlut.nc',\n",
       " 'atmos_cmip_2deg_daily_2D/ts/daily/5yr/atmos_cmip_2deg_daily_2D.19750101-19791231.rlut.nc',\n",
       " 'atmos_cmip_2deg_daily_2D/ts/daily/5yr/atmos_cmip_2deg_daily_2D.19800101-19841231.rlut.nc',\n",
       " 'atmos_cmip_2deg_daily_2D/ts/daily/5yr/atmos_cmip_2deg_daily_2D.19850101-19891231.rlut.nc',\n",
       " 'atmos_cmip_2deg_daily_2D/ts/daily/5yr/atmos_cmip_2deg_daily_2D.19900101-19941231.rlut.nc',\n",
       " 'atmos_cmip_2deg_daily_2D/ts/daily/5yr/atmos_cmip_2deg_daily_2D.19950101-19991231.rlut.nc',\n",
       " 'atmos_cmip_2deg_daily_2D/ts/daily/5yr/atmos_cmip_2deg_daily_2D.20000101-20041231.rlut.nc',\n",
       " 'atmos_cmip_2deg_daily_2D/ts/daily/5yr/atmos_cmip_2deg_daily_2D.20050101-20091231.rlut.nc',\n",
       " 'atmos_cmip_2deg_daily_2D/ts/daily/5yr/atmos_cmip_2deg_daily_2D.20100101-20141231.rlut.nc',\n",
       " 'atmos_cmip_2deg_daily_2D/ts/daily/35yr/atmos_cmip_2deg_daily_2D.19800101-20141231.rlut.nc']"
      ]
     },
     "execution_count": 8,
     "metadata": {},
     "output_type": "execute_result"
    }
   ],
   "source": [
    "util.find_files(test_dir, '*/ts/daily/*.rlut.nc')"
   ]
  },
  {
   "cell_type": "code",
   "execution_count": 11,
   "metadata": {},
   "outputs": [
    {
     "name": "stdout",
     "output_type": "stream",
     "text": [
      "atmos_cmip_2deg_daily_2D/ts/daily/5yr/atmos_cmip_2deg_daily_2D.19700101-19741231.rlut.nc\n",
      "atmos_cmip_2deg_daily_2D/ts/daily/5yr/atmos_cmip_2deg_daily_2D.19750101-19791231.rlut.nc\n",
      "atmos_cmip_2deg_daily_2D/ts/daily/5yr/atmos_cmip_2deg_daily_2D.19800101-19841231.rlut.nc\n",
      "atmos_cmip_2deg_daily_2D/ts/daily/5yr/atmos_cmip_2deg_daily_2D.19850101-19891231.rlut.nc\n",
      "atmos_cmip/ts/daily/5yr/atmos_cmip.19700101-19741231.rlut.nc\n",
      "atmos_cmip/ts/daily/5yr/atmos_cmip.19750101-19791231.rlut.nc\n",
      "atmos_cmip/ts/daily/5yr/atmos_cmip.19800101-19841231.rlut.nc\n",
      "atmos_cmip/ts/daily/5yr/atmos_cmip.19850101-19891231.rlut.nc\n"
     ]
    }
   ],
   "source": [
    "for f in ds.remote_resource:\n",
    "    print f.remote_resource"
   ]
  },
  {
   "cell_type": "code",
   "execution_count": 12,
   "metadata": {},
   "outputs": [
    {
     "name": "stdout",
     "output_type": "stream",
     "text": [
      "8\n",
      "DataSet({'end_date': '19741231', 'date_freq': DateFrequency('1da'), 'component': 'atmos_cmip_2deg_daily_2D', 'date_range': DateRange('19700101-19741231'), 'remote_resource': 'atmos_cmip_2deg_daily_2D/ts/daily/5yr/atmos_cmip_2deg_daily_2D.19700101-19741231.rlut.nc', 'file': 'atmos_cmip_2deg_daily_2D.19700101-19741231.rlut.nc', 'field_name': 'rlut', 'local_resource': None, 'name': None, 'chunk_freq': DateFrequency('5yr'), 'component2': 'atmos_cmip_2deg_daily_2D', 'units': None, 'start_date': '19700101', 'dir': 'atmos_cmip_2deg_daily_2D/ts/daily/5yr'})\n"
     ]
    }
   ],
   "source": [
    "print len(ds.remote_resource)\n",
    "print ds.remote_resource[0]"
   ]
  },
  {
   "cell_type": "code",
   "execution_count": 13,
   "metadata": {},
   "outputs": [
    {
     "name": "stdout",
     "output_type": "stream",
     "text": [
      "['atmos_cmip']\n"
     ]
    }
   ],
   "source": [
    "cmpts = dm._select_model_component([ds])\n",
    "print cmpts"
   ]
  },
  {
   "cell_type": "code",
   "execution_count": 14,
   "metadata": {},
   "outputs": [
    {
     "name": "stdout",
     "output_type": "stream",
     "text": [
      "[DataSet({'end_date': '19741231', 'date_freq': DateFrequency('1da'), 'component': 'atmos_cmip', 'date_range': DateRange('19700101-19741231'), 'remote_resource': 'atmos_cmip/ts/daily/5yr/atmos_cmip.19700101-19741231.rlut.nc', 'file': 'atmos_cmip.19700101-19741231.rlut.nc', 'field_name': 'rlut', 'local_resource': None, 'name': None, 'chunk_freq': DateFrequency('5yr'), 'component2': 'atmos_cmip', 'units': None, 'start_date': '19700101', 'dir': 'atmos_cmip/ts/daily/5yr'}), DataSet({'end_date': '19791231', 'date_freq': DateFrequency('1da'), 'component': 'atmos_cmip', 'date_range': DateRange('19750101-19791231'), 'remote_resource': 'atmos_cmip/ts/daily/5yr/atmos_cmip.19750101-19791231.rlut.nc', 'file': 'atmos_cmip.19750101-19791231.rlut.nc', 'field_name': 'rlut', 'local_resource': None, 'name': None, 'chunk_freq': DateFrequency('5yr'), 'component2': 'atmos_cmip', 'units': None, 'start_date': '19750101', 'dir': 'atmos_cmip/ts/daily/5yr'}), DataSet({'end_date': '19841231', 'date_freq': DateFrequency('1da'), 'component': 'atmos_cmip', 'date_range': DateRange('19800101-19841231'), 'remote_resource': 'atmos_cmip/ts/daily/5yr/atmos_cmip.19800101-19841231.rlut.nc', 'file': 'atmos_cmip.19800101-19841231.rlut.nc', 'field_name': 'rlut', 'local_resource': None, 'name': None, 'chunk_freq': DateFrequency('5yr'), 'component2': 'atmos_cmip', 'units': None, 'start_date': '19800101', 'dir': 'atmos_cmip/ts/daily/5yr'}), DataSet({'end_date': '19891231', 'date_freq': DateFrequency('1da'), 'component': 'atmos_cmip', 'date_range': DateRange('19850101-19891231'), 'remote_resource': 'atmos_cmip/ts/daily/5yr/atmos_cmip.19850101-19891231.rlut.nc', 'file': 'atmos_cmip.19850101-19891231.rlut.nc', 'field_name': 'rlut', 'local_resource': None, 'name': None, 'chunk_freq': DateFrequency('5yr'), 'component2': 'atmos_cmip', 'units': None, 'start_date': '19850101', 'dir': 'atmos_cmip/ts/daily/5yr'})]\n"
     ]
    },
    {
     "ename": "AttributeError",
     "evalue": "name_in_model",
     "output_type": "error",
     "traceback": [
      "\u001b[0;31m---------------------------------------------------------------------------\u001b[0m",
      "\u001b[0;31mAttributeError\u001b[0m                            Traceback (most recent call last)",
      "\u001b[0;32m<ipython-input-14-5e57b880ce65>\u001b[0m in \u001b[0;36m<module>\u001b[0;34m()\u001b[0m\n\u001b[1;32m      8\u001b[0m \u001b[0;32mprint\u001b[0m \u001b[0mfiles_to_fetch\u001b[0m\u001b[0;34m\u001b[0m\u001b[0m\n\u001b[1;32m      9\u001b[0m \u001b[0;32mfor\u001b[0m \u001b[0mf\u001b[0m \u001b[0;32min\u001b[0m \u001b[0mfiles_to_fetch\u001b[0m\u001b[0;34m:\u001b[0m\u001b[0;34m\u001b[0m\u001b[0m\n\u001b[0;32m---> 10\u001b[0;31m     \u001b[0mf\u001b[0m\u001b[0;34m.\u001b[0m\u001b[0mlocal_resource\u001b[0m \u001b[0;34m=\u001b[0m \u001b[0mdm\u001b[0m\u001b[0;34m.\u001b[0m\u001b[0mlocal_path\u001b[0m\u001b[0;34m(\u001b[0m\u001b[0mf\u001b[0m\u001b[0;34m)\u001b[0m\u001b[0;34m\u001b[0m\u001b[0m\n\u001b[0m\u001b[1;32m     11\u001b[0m \u001b[0mfoo2\u001b[0m \u001b[0;34m=\u001b[0m \u001b[0;34m[\u001b[0m\u001b[0mf\u001b[0m \u001b[0;32mfor\u001b[0m \u001b[0mf\u001b[0m \u001b[0;32min\u001b[0m \u001b[0mset\u001b[0m\u001b[0;34m(\u001b[0m\u001b[0mfiles_to_fetch\u001b[0m\u001b[0;34m)\u001b[0m \u001b[0;32mif\u001b[0m \u001b[0;32mnot\u001b[0m \u001b[0mdm\u001b[0m\u001b[0;34m.\u001b[0m\u001b[0mlocal_data_is_current\u001b[0m\u001b[0;34m(\u001b[0m\u001b[0mf\u001b[0m\u001b[0;34m)\u001b[0m\u001b[0;34m]\u001b[0m\u001b[0;34m\u001b[0m\u001b[0m\n\u001b[1;32m     12\u001b[0m \u001b[0;32mprint\u001b[0m \u001b[0mfoo2\u001b[0m\u001b[0;34m\u001b[0m\u001b[0m\n",
      "\u001b[0;32m/local2/home/MDTF/MDTF-diagnostics/src/data_manager.py\u001b[0m in \u001b[0;36mlocal_path\u001b[0;34m(self, dataset)\u001b[0m\n\u001b[1;32m    185\u001b[0m             \u001b[0mself\u001b[0m\u001b[0;34m.\u001b[0m\u001b[0mMODEL_DATA_DIR\u001b[0m\u001b[0;34m,\u001b[0m \u001b[0mfreq\u001b[0m\u001b[0;34m,\u001b[0m\u001b[0;34m\u001b[0m\u001b[0m\n\u001b[1;32m    186\u001b[0m             \"{}.{}.{}.nc\".format(\n\u001b[0;32m--> 187\u001b[0;31m                 self.case_name, dataset.name_in_model, freq)\n\u001b[0m\u001b[1;32m    188\u001b[0m         )\n\u001b[1;32m    189\u001b[0m \u001b[0;34m\u001b[0m\u001b[0m\n",
      "\u001b[0;32m/local2/home/MDTF/MDTF-diagnostics/src/util.pyc\u001b[0m in \u001b[0;36m__getattr__\u001b[0;34m(self, k)\u001b[0m\n\u001b[1;32m    196\u001b[0m                 \u001b[0;32mreturn\u001b[0m \u001b[0mself\u001b[0m\u001b[0;34m[\u001b[0m\u001b[0mk\u001b[0m\u001b[0;34m]\u001b[0m\u001b[0;34m\u001b[0m\u001b[0m\n\u001b[1;32m    197\u001b[0m             \u001b[0;32mexcept\u001b[0m \u001b[0mKeyError\u001b[0m\u001b[0;34m:\u001b[0m\u001b[0;34m\u001b[0m\u001b[0m\n\u001b[0;32m--> 198\u001b[0;31m                 \u001b[0;32mraise\u001b[0m \u001b[0mAttributeError\u001b[0m\u001b[0;34m(\u001b[0m\u001b[0mk\u001b[0m\u001b[0;34m)\u001b[0m\u001b[0;34m\u001b[0m\u001b[0m\n\u001b[0m\u001b[1;32m    199\u001b[0m \u001b[0;34m\u001b[0m\u001b[0m\n\u001b[1;32m    200\u001b[0m     \u001b[0;32mdef\u001b[0m \u001b[0m__setattr__\u001b[0m\u001b[0;34m(\u001b[0m\u001b[0mself\u001b[0m\u001b[0;34m,\u001b[0m \u001b[0mk\u001b[0m\u001b[0;34m,\u001b[0m \u001b[0mv\u001b[0m\u001b[0;34m)\u001b[0m\u001b[0;34m:\u001b[0m\u001b[0;34m\u001b[0m\u001b[0m\n",
      "\u001b[0;31mAttributeError\u001b[0m: name_in_model"
     ]
    }
   ],
   "source": [
    "files_to_fetch = []\n",
    "ds_list = [d for d in ds.remote_resource if (d.component in cmpts)]\n",
    "# take longest chunk frequency (revisit?)\n",
    "chunk_freq = max({d.chunk_freq for d in ds_list})\n",
    "ds.remote_resource = [d for d in ds_list if (d.chunk_freq == chunk_freq)]\n",
    "assert ds.remote_resource # shouldn't have eliminated everything\n",
    "files_to_fetch.extend(ds.remote_resource)\n",
    "print files_to_fetch\n",
    "for f in files_to_fetch:\n",
    "    f.local_resource = dm.local_path(f)\n",
    "foo2 = [f for f in set(files_to_fetch) if not dm.local_data_is_current(f)]\n",
    "print foo2"
   ]
  },
  {
   "cell_type": "code",
   "execution_count": null,
   "metadata": {},
   "outputs": [],
   "source": [
    "for f in files_to_fetch:\n",
    "    print f.remote_resource"
   ]
  },
  {
   "cell_type": "code",
   "execution_count": null,
   "metadata": {},
   "outputs": [],
   "source": [
    "import tempfile\n",
    "import os"
   ]
  },
  {
   "cell_type": "code",
   "execution_count": null,
   "metadata": {},
   "outputs": [],
   "source": [
    "tempfile.tempdir = os.getcwd()\n",
    "foo1 = tempfile.mkdtemp(prefix='MDTF_temp_')\n",
    "print foo1\n",
    "os.rmdir(foo1)"
   ]
  },
  {
   "cell_type": "code",
   "execution_count": null,
   "metadata": {},
   "outputs": [],
   "source": [
    "print tempfile.tempdir"
   ]
  },
  {
   "cell_type": "code",
   "execution_count": null,
   "metadata": {},
   "outputs": [],
   "source": [
    "print ds.__hash__()\n",
    "print hex(ds.__hash__())"
   ]
  },
  {
   "cell_type": "code",
   "execution_count": 15,
   "metadata": {},
   "outputs": [
    {
     "name": "stdout",
     "output_type": "stream",
     "text": [
      "['.dec', '.checkpoint', 'atmos_cmip', 'atmos_cmip_2deg_daily_2D', 'atmos_cmip_2deg_daily_3D', 'atmos', 'atmos_level_cmip', 'atmos_level_cmip_2deg_daily', 'atmos_level', 'atmos_month_aer', 'atmos_diurnal_cmip', 'atmos_diurnal', 'atmos_scalar', 'tracer_level', 'aerosol_cmip', 'aerosol_cmip_2deg', 'land', 'land_cubic', 'land_instant_cubic', 'land_cmip', 'land_cmip_2deg', 'river', 'river_cubic', 'river_instant_cubic', 'land_month_past', 'land_month_inst_past', 'land_month_crop', 'land_month_inst_crop', 'land_month_ntrl', 'land_month_inst_ntrl', 'land_month_scnd', 'land_month_inst_scnd', 'LUmip_month_psl', 'LUmip_month_crp', 'LUmip_month_pst', 'LUmip_year_psl', 'LUmip_year_crp', 'LUmip_year_pst', 'ocean_daily_cmip', 'ocean_daily_gfdl', 'ocean_daily_1x1deg', 'ocean_monthly', 'ocean_monthly_1x1deg', 'ocean_month_rho2', 'ocean_month_rho2_1x1deg', 'ocean_monthly_z', 'ocean_monthly_z_1x1deg', 'ocean_annual', 'ocean_annual_1x1deg', 'ocean_annual_rho2', 'ocean_annual_rho2_1x1deg', 'ocean_annual_z', 'ocean_annual_z_1x1deg', 'ocean_scalar_monthly', 'ocean_scalar_annual', 'ocean_Barents_opening', 'ocean_Bering_Strait', 'ocean_Davis_Strait', 'ocean_Windward_Passage', 'ocean_Denmark_Strait', 'ocean_Drake_Passage', 'ocean_English_Channel', 'ocean_Faroe_Scotland', 'ocean_Florida_Bahamas', 'ocean_Fram_Strait', 'ocean_Iceland_Faroe_V', 'ocean_Iceland_Faroe_U', 'ocean_Indonesian_Throughflow', 'ocean_Mozambique_Channel', 'ocean_Pacific_undercurrent', 'ocean_Taiwan_Luzon', 'ocean_Agulhas_section', 'ocean_Gibraltar_Strait', 'ocean_Iceland_Norway', 'ocean_month_refined', 'ocean_month_z_refined', 'ocean_month_rho2_refined', 'ice', 'ice_1x1deg', 'ice_daily_CFMIP_2deg', 'ocean_bling_1x1deg', 'ocean_bling_cmip6_omip_sfc_1x1deg', 'ocean_bling_cmip6_omip_2d_1x1deg', 'ocean_bling_cmip6_omip_tracers_month_z_1x1deg', 'ocean_bling_cmip6_omip_tracers_year_z_1x1deg', 'ocean_bling_cmip6_omip_rates_year_z_1x1deg', 'ocean_inert_month', 'ocean_inert_month_1x1deg', 'ocean_inert_z', 'ocean_inert_z_1x1deg', 'gmon.out', 'atmos_cmip_2deg_daily_3D_Plev8', 'atmos_level_cmip_2deg_6hr', 'atmos_cmip_2deg_3hr_2D', 'ocean_8xdaily_1deg', 'ocean_8xdaily_2deg', 'atmos_plev26_cmip_zonal', 'atmos_plev26_2deg_6hrToMonthly_zonal', 'atmos_cmip_2deg_daily_3D_zonal', 'atmos_plev26_cmip_2deg_daily_zonal', 'atmos_plev26_2deg_6hrTodaily_zonal', 'atmos_cmip_DynVar', 'atmos_cmip_2deg_daily_2D_DynVar', 'atmos_cmip_2deg_daily_3D_DynVar']\n"
     ]
    }
   ],
   "source": [
    "print os.listdir(test_dir)"
   ]
  },
  {
   "cell_type": "code",
   "execution_count": 25,
   "metadata": {},
   "outputs": [],
   "source": [
    "def test_find(root_dir, dataset):\n",
    "    cmpts = [d for d in os.listdir(root_dir) if not d.startswith('.')]\n",
    "    candidates = []\n",
    "    query = '*.{}.nc'.format(dataset.name_in_model)\n",
    "    for rp1 in cmpts:\n",
    "        rp2 = os.path.join(rp1, 'ts', dataset.date_freq.format_frepp())\n",
    "        ap2 = os.path.join(root_dir, rp2)\n",
    "        if os.path.exists(ap2):\n",
    "            chunk_freqs = [d for d in os.listdir(ap2) if not d.startswith('.')]\n",
    "            for rp3 in chunk_freqs:\n",
    "                ap3 = os.path.join(ap2, rp3)\n",
    "                print ap3\n",
    "                paths = util.run_command([\n",
    "                    'find', ap3, '-name', query, '-print','-quit'\n",
    "                ])\n",
    "                if paths:\n",
    "                    print 'GOOD'\n",
    "                    candidates.append(ap3)\n",
    "    return candidates"
   ]
  },
  {
   "cell_type": "code",
   "execution_count": 26,
   "metadata": {},
   "outputs": [
    {
     "name": "stdout",
     "output_type": "stream",
     "text": [
      "/archive/oar.gfdl.cmip6/CM4/warsaw_201710_om4_v1.0.1/CM4_historical/gfdl.ncrc4-intel16-prod-openmp/pp/atmos_cmip/ts/daily/5yr\n",
      "GOOD\n",
      "/archive/oar.gfdl.cmip6/CM4/warsaw_201710_om4_v1.0.1/CM4_historical/gfdl.ncrc4-intel16-prod-openmp/pp/atmos_cmip/ts/daily/35yr\n",
      "GOOD\n",
      "/archive/oar.gfdl.cmip6/CM4/warsaw_201710_om4_v1.0.1/CM4_historical/gfdl.ncrc4-intel16-prod-openmp/pp/atmos_cmip_2deg_daily_2D/ts/daily/5yr\n",
      "GOOD\n",
      "/archive/oar.gfdl.cmip6/CM4/warsaw_201710_om4_v1.0.1/CM4_historical/gfdl.ncrc4-intel16-prod-openmp/pp/atmos_cmip_2deg_daily_2D/ts/daily/35yr\n",
      "GOOD\n",
      "/archive/oar.gfdl.cmip6/CM4/warsaw_201710_om4_v1.0.1/CM4_historical/gfdl.ncrc4-intel16-prod-openmp/pp/atmos_cmip_2deg_daily_3D/ts/daily/5yr\n",
      "/archive/oar.gfdl.cmip6/CM4/warsaw_201710_om4_v1.0.1/CM4_historical/gfdl.ncrc4-intel16-prod-openmp/pp/atmos_cmip_2deg_daily_3D/ts/daily/35yr\n",
      "/archive/oar.gfdl.cmip6/CM4/warsaw_201710_om4_v1.0.1/CM4_historical/gfdl.ncrc4-intel16-prod-openmp/pp/atmos_level_cmip_2deg_daily/ts/daily/5yr\n",
      "/archive/oar.gfdl.cmip6/CM4/warsaw_201710_om4_v1.0.1/CM4_historical/gfdl.ncrc4-intel16-prod-openmp/pp/atmos_level_cmip_2deg_daily/ts/daily/35yr\n",
      "/archive/oar.gfdl.cmip6/CM4/warsaw_201710_om4_v1.0.1/CM4_historical/gfdl.ncrc4-intel16-prod-openmp/pp/aerosol_cmip_2deg/ts/daily/5yr\n",
      "/archive/oar.gfdl.cmip6/CM4/warsaw_201710_om4_v1.0.1/CM4_historical/gfdl.ncrc4-intel16-prod-openmp/pp/aerosol_cmip_2deg/ts/daily/35yr\n",
      "/archive/oar.gfdl.cmip6/CM4/warsaw_201710_om4_v1.0.1/CM4_historical/gfdl.ncrc4-intel16-prod-openmp/pp/land/ts/daily/5yr\n",
      "/archive/oar.gfdl.cmip6/CM4/warsaw_201710_om4_v1.0.1/CM4_historical/gfdl.ncrc4-intel16-prod-openmp/pp/land/ts/daily/35yr\n",
      "/archive/oar.gfdl.cmip6/CM4/warsaw_201710_om4_v1.0.1/CM4_historical/gfdl.ncrc4-intel16-prod-openmp/pp/land_cubic/ts/daily/5yr\n",
      "/archive/oar.gfdl.cmip6/CM4/warsaw_201710_om4_v1.0.1/CM4_historical/gfdl.ncrc4-intel16-prod-openmp/pp/land_cubic/ts/daily/35yr\n",
      "/archive/oar.gfdl.cmip6/CM4/warsaw_201710_om4_v1.0.1/CM4_historical/gfdl.ncrc4-intel16-prod-openmp/pp/land_cmip/ts/daily/5yr\n",
      "/archive/oar.gfdl.cmip6/CM4/warsaw_201710_om4_v1.0.1/CM4_historical/gfdl.ncrc4-intel16-prod-openmp/pp/land_cmip/ts/daily/35yr\n",
      "/archive/oar.gfdl.cmip6/CM4/warsaw_201710_om4_v1.0.1/CM4_historical/gfdl.ncrc4-intel16-prod-openmp/pp/land_cmip_2deg/ts/daily/5yr\n",
      "/archive/oar.gfdl.cmip6/CM4/warsaw_201710_om4_v1.0.1/CM4_historical/gfdl.ncrc4-intel16-prod-openmp/pp/land_cmip_2deg/ts/daily/35yr\n",
      "/archive/oar.gfdl.cmip6/CM4/warsaw_201710_om4_v1.0.1/CM4_historical/gfdl.ncrc4-intel16-prod-openmp/pp/river/ts/daily/5yr\n",
      "/archive/oar.gfdl.cmip6/CM4/warsaw_201710_om4_v1.0.1/CM4_historical/gfdl.ncrc4-intel16-prod-openmp/pp/river/ts/daily/35yr\n",
      "/archive/oar.gfdl.cmip6/CM4/warsaw_201710_om4_v1.0.1/CM4_historical/gfdl.ncrc4-intel16-prod-openmp/pp/river_cubic/ts/daily/5yr\n",
      "/archive/oar.gfdl.cmip6/CM4/warsaw_201710_om4_v1.0.1/CM4_historical/gfdl.ncrc4-intel16-prod-openmp/pp/river_cubic/ts/daily/35yr\n",
      "/archive/oar.gfdl.cmip6/CM4/warsaw_201710_om4_v1.0.1/CM4_historical/gfdl.ncrc4-intel16-prod-openmp/pp/ocean_daily_cmip/ts/daily/5yr\n",
      "/archive/oar.gfdl.cmip6/CM4/warsaw_201710_om4_v1.0.1/CM4_historical/gfdl.ncrc4-intel16-prod-openmp/pp/ocean_daily_gfdl/ts/daily/5yr\n",
      "/archive/oar.gfdl.cmip6/CM4/warsaw_201710_om4_v1.0.1/CM4_historical/gfdl.ncrc4-intel16-prod-openmp/pp/ocean_daily_1x1deg/ts/daily/5yr\n",
      "/archive/oar.gfdl.cmip6/CM4/warsaw_201710_om4_v1.0.1/CM4_historical/gfdl.ncrc4-intel16-prod-openmp/pp/ocean_Barents_opening/ts/daily/5yr\n",
      "/archive/oar.gfdl.cmip6/CM4/warsaw_201710_om4_v1.0.1/CM4_historical/gfdl.ncrc4-intel16-prod-openmp/pp/ocean_Bering_Strait/ts/daily/5yr\n",
      "/archive/oar.gfdl.cmip6/CM4/warsaw_201710_om4_v1.0.1/CM4_historical/gfdl.ncrc4-intel16-prod-openmp/pp/ocean_Davis_Strait/ts/daily/5yr\n",
      "/archive/oar.gfdl.cmip6/CM4/warsaw_201710_om4_v1.0.1/CM4_historical/gfdl.ncrc4-intel16-prod-openmp/pp/ocean_Windward_Passage/ts/daily/5yr\n",
      "/archive/oar.gfdl.cmip6/CM4/warsaw_201710_om4_v1.0.1/CM4_historical/gfdl.ncrc4-intel16-prod-openmp/pp/ocean_Denmark_Strait/ts/daily/5yr\n",
      "/archive/oar.gfdl.cmip6/CM4/warsaw_201710_om4_v1.0.1/CM4_historical/gfdl.ncrc4-intel16-prod-openmp/pp/ocean_Drake_Passage/ts/daily/5yr\n",
      "/archive/oar.gfdl.cmip6/CM4/warsaw_201710_om4_v1.0.1/CM4_historical/gfdl.ncrc4-intel16-prod-openmp/pp/ocean_English_Channel/ts/daily/5yr\n",
      "/archive/oar.gfdl.cmip6/CM4/warsaw_201710_om4_v1.0.1/CM4_historical/gfdl.ncrc4-intel16-prod-openmp/pp/ocean_Faroe_Scotland/ts/daily/5yr\n",
      "/archive/oar.gfdl.cmip6/CM4/warsaw_201710_om4_v1.0.1/CM4_historical/gfdl.ncrc4-intel16-prod-openmp/pp/ocean_Florida_Bahamas/ts/daily/5yr\n",
      "/archive/oar.gfdl.cmip6/CM4/warsaw_201710_om4_v1.0.1/CM4_historical/gfdl.ncrc4-intel16-prod-openmp/pp/ocean_Fram_Strait/ts/daily/5yr\n",
      "/archive/oar.gfdl.cmip6/CM4/warsaw_201710_om4_v1.0.1/CM4_historical/gfdl.ncrc4-intel16-prod-openmp/pp/ocean_Iceland_Faroe_V/ts/daily/5yr\n",
      "/archive/oar.gfdl.cmip6/CM4/warsaw_201710_om4_v1.0.1/CM4_historical/gfdl.ncrc4-intel16-prod-openmp/pp/ocean_Iceland_Faroe_U/ts/daily/5yr\n",
      "/archive/oar.gfdl.cmip6/CM4/warsaw_201710_om4_v1.0.1/CM4_historical/gfdl.ncrc4-intel16-prod-openmp/pp/ocean_Indonesian_Throughflow/ts/daily/5yr\n",
      "/archive/oar.gfdl.cmip6/CM4/warsaw_201710_om4_v1.0.1/CM4_historical/gfdl.ncrc4-intel16-prod-openmp/pp/ocean_Mozambique_Channel/ts/daily/5yr\n",
      "/archive/oar.gfdl.cmip6/CM4/warsaw_201710_om4_v1.0.1/CM4_historical/gfdl.ncrc4-intel16-prod-openmp/pp/ocean_Pacific_undercurrent/ts/daily/5yr\n",
      "/archive/oar.gfdl.cmip6/CM4/warsaw_201710_om4_v1.0.1/CM4_historical/gfdl.ncrc4-intel16-prod-openmp/pp/ocean_Taiwan_Luzon/ts/daily/5yr\n",
      "/archive/oar.gfdl.cmip6/CM4/warsaw_201710_om4_v1.0.1/CM4_historical/gfdl.ncrc4-intel16-prod-openmp/pp/ocean_Agulhas_section/ts/daily/5yr\n",
      "/archive/oar.gfdl.cmip6/CM4/warsaw_201710_om4_v1.0.1/CM4_historical/gfdl.ncrc4-intel16-prod-openmp/pp/ocean_Gibraltar_Strait/ts/daily/5yr\n",
      "/archive/oar.gfdl.cmip6/CM4/warsaw_201710_om4_v1.0.1/CM4_historical/gfdl.ncrc4-intel16-prod-openmp/pp/ocean_Iceland_Norway/ts/daily/5yr\n",
      "/archive/oar.gfdl.cmip6/CM4/warsaw_201710_om4_v1.0.1/CM4_historical/gfdl.ncrc4-intel16-prod-openmp/pp/ice_daily_CFMIP_2deg/ts/daily/5yr\n",
      "/archive/oar.gfdl.cmip6/CM4/warsaw_201710_om4_v1.0.1/CM4_historical/gfdl.ncrc4-intel16-prod-openmp/pp/atmos_cmip_2deg_daily_3D_Plev8/ts/daily/5yr\n",
      "/archive/oar.gfdl.cmip6/CM4/warsaw_201710_om4_v1.0.1/CM4_historical/gfdl.ncrc4-intel16-prod-openmp/pp/atmos_cmip_2deg_daily_3D_zonal/ts/daily/5yr\n",
      "/archive/oar.gfdl.cmip6/CM4/warsaw_201710_om4_v1.0.1/CM4_historical/gfdl.ncrc4-intel16-prod-openmp/pp/atmos_plev26_cmip_2deg_daily_zonal/ts/daily/5yr\n",
      "/archive/oar.gfdl.cmip6/CM4/warsaw_201710_om4_v1.0.1/CM4_historical/gfdl.ncrc4-intel16-prod-openmp/pp/atmos_plev26_2deg_6hrTodaily_zonal/ts/daily/5yr\n",
      "/archive/oar.gfdl.cmip6/CM4/warsaw_201710_om4_v1.0.1/CM4_historical/gfdl.ncrc4-intel16-prod-openmp/pp/atmos_cmip_2deg_daily_2D_DynVar/ts/daily/5yr\n",
      "/archive/oar.gfdl.cmip6/CM4/warsaw_201710_om4_v1.0.1/CM4_historical/gfdl.ncrc4-intel16-prod-openmp/pp/atmos_cmip_2deg_daily_3D_DynVar/ts/daily/5yr\n"
     ]
    },
    {
     "data": {
      "text/plain": [
       "['/archive/oar.gfdl.cmip6/CM4/warsaw_201710_om4_v1.0.1/CM4_historical/gfdl.ncrc4-intel16-prod-openmp/pp/atmos_cmip/ts/daily/5yr',\n",
       " '/archive/oar.gfdl.cmip6/CM4/warsaw_201710_om4_v1.0.1/CM4_historical/gfdl.ncrc4-intel16-prod-openmp/pp/atmos_cmip/ts/daily/35yr',\n",
       " '/archive/oar.gfdl.cmip6/CM4/warsaw_201710_om4_v1.0.1/CM4_historical/gfdl.ncrc4-intel16-prod-openmp/pp/atmos_cmip_2deg_daily_2D/ts/daily/5yr',\n",
       " '/archive/oar.gfdl.cmip6/CM4/warsaw_201710_om4_v1.0.1/CM4_historical/gfdl.ncrc4-intel16-prod-openmp/pp/atmos_cmip_2deg_daily_2D/ts/daily/35yr']"
      ]
     },
     "execution_count": 26,
     "metadata": {},
     "output_type": "execute_result"
    }
   ],
   "source": [
    "test_find(test_dir, ds)"
   ]
  },
  {
   "cell_type": "code",
   "execution_count": 27,
   "metadata": {},
   "outputs": [
    {
     "data": {
      "text/plain": [
       "['atmos_cmip_2deg_daily_2D.19800101-20141231.rlus.nc',\n",
       " 'atmos_cmip_2deg_daily_2D.19800101-20141231.albisccp.nc',\n",
       " 'atmos_cmip_2deg_daily_2D.19800101-20141231.wap500.nc',\n",
       " 'atmos_cmip_2deg_daily_2D.19800101-20141231.ccb.nc',\n",
       " 'atmos_cmip_2deg_daily_2D.19800101-20141231.ta700.nc',\n",
       " 'atmos_cmip_2deg_daily_2D.19800101-20141231.cct.nc',\n",
       " 'atmos_cmip_2deg_daily_2D.19800101-20141231.rlutcs.nc',\n",
       " 'atmos_cmip_2deg_daily_2D.19800101-20141231.cldnvi.nc',\n",
       " 'atmos_cmip_2deg_daily_2D.19800101-20141231.rlut.nc',\n",
       " 'atmos_cmip_2deg_daily_2D.19800101-20141231.clhcalipso.nc',\n",
       " 'atmos_cmip_2deg_daily_2D.19800101-20141231.rsdscsdiff.nc',\n",
       " 'atmos_cmip_2deg_daily_2D.19800101-20141231.clivi.nc',\n",
       " 'atmos_cmip_2deg_daily_2D.19800101-20141231.rsdscs.nc',\n",
       " 'atmos_cmip_2deg_daily_2D.19800101-20141231.cllcalipso.nc',\n",
       " 'atmos_cmip_2deg_daily_2D.19800101-20141231.rsdsdiff.nc',\n",
       " 'atmos_cmip_2deg_daily_2D.19800101-20141231.clmcalipso.nc',\n",
       " 'atmos_cmip_2deg_daily_2D.19800101-20141231.rsds.nc',\n",
       " 'atmos_cmip_2deg_daily_2D.19800101-20141231.cltcalipso.nc',\n",
       " 'atmos_cmip_2deg_daily_2D.19800101-20141231.rsdt.nc',\n",
       " 'atmos_cmip_2deg_daily_2D.19800101-20141231.cltisccp.nc',\n",
       " 'atmos_cmip_2deg_daily_2D.19800101-20141231.clt.nc',\n",
       " 'atmos_cmip_2deg_daily_2D.19800101-20141231.rsus.nc',\n",
       " 'atmos_cmip_2deg_daily_2D.19800101-20141231.clwvi.nc',\n",
       " 'atmos_cmip_2deg_daily_2D.19800101-20141231.rsuscs.nc',\n",
       " 'atmos_cmip_2deg_daily_2D.19800101-20141231.hfls.nc',\n",
       " 'atmos_cmip_2deg_daily_2D.19800101-20141231.rsutcs.nc',\n",
       " 'atmos_cmip_2deg_daily_2D.19800101-20141231.hfss.nc',\n",
       " 'atmos_cmip_2deg_daily_2D.19800101-20141231.rsut.nc',\n",
       " 'atmos_cmip_2deg_daily_2D.19800101-20141231.hursmax.nc',\n",
       " 'atmos_cmip_2deg_daily_2D.19800101-20141231.sfcWindmax.nc',\n",
       " 'atmos_cmip_2deg_daily_2D.19800101-20141231.hursmin.nc',\n",
       " 'atmos_cmip_2deg_daily_2D.19800101-20141231.sfcWind.nc',\n",
       " 'atmos_cmip_2deg_daily_2D.19800101-20141231.hurs.nc',\n",
       " 'atmos_cmip_2deg_daily_2D.19800101-20141231.ta700_unmsk.nc',\n",
       " 'atmos_cmip_2deg_daily_2D.19800101-20141231.huss.nc',\n",
       " 'atmos_cmip_2deg_daily_2D.19800101-20141231.tasmax.nc',\n",
       " 'atmos_cmip_2deg_daily_2D.19800101-20141231.pctisccp.nc',\n",
       " 'atmos_cmip_2deg_daily_2D.19800101-20141231.prc.nc',\n",
       " 'atmos_cmip_2deg_daily_2D.19800101-20141231.pr.nc',\n",
       " 'atmos_cmip_2deg_daily_2D.19800101-20141231.tasmin.nc',\n",
       " 'atmos_cmip_2deg_daily_2D.19800101-20141231.prsn.nc',\n",
       " 'atmos_cmip_2deg_daily_2D.19800101-20141231.prw.nc',\n",
       " 'atmos_cmip_2deg_daily_2D.19800101-20141231.psl.nc',\n",
       " 'atmos_cmip_2deg_daily_2D.19800101-20141231.ps.nc',\n",
       " 'atmos_cmip_2deg_daily_2D.19800101-20141231.albisccp_old.nc',\n",
       " 'atmos_cmip_2deg_daily_2D.19800101-20141231.rldscs.nc',\n",
       " 'atmos_cmip_2deg_daily_2D.19800101-20141231.uas.nc',\n",
       " 'atmos_cmip_2deg_daily_2D.19800101-20141231.rlds.nc',\n",
       " 'atmos_cmip_2deg_daily_2D.19800101-20141231.tas.nc',\n",
       " 'atmos_cmip_2deg_daily_2D.19800101-20141231.vas.nc',\n",
       " 'atmos_cmip_2deg_daily_2D.19800101-20141231.tslsi.nc',\n",
       " 'atmos_cmip_2deg_daily_2D.19800101-20141231.ts.nc']"
      ]
     },
     "execution_count": 27,
     "metadata": {},
     "output_type": "execute_result"
    }
   ],
   "source": [
    "os.listdir('/archive/oar.gfdl.cmip6/CM4/warsaw_201710_om4_v1.0.1/CM4_historical/gfdl.ncrc4-intel16-prod-openmp/pp/atmos_cmip_2deg_daily_2D/ts/daily/35yr')\n"
   ]
  },
  {
   "cell_type": "code",
   "execution_count": 35,
   "metadata": {},
   "outputs": [],
   "source": [
    "    def query_dataset2(dataset, root_dir):\n",
    "        \"\"\"Return set of candidate directories for data files.\n",
    "        \"\"\"\n",
    "        if 'component' in dataset:\n",
    "            cmpts = [dataset.component]\n",
    "        else:\n",
    "            cmpts = [d for d in os.listdir(root_dir) if not d.startswith('.')]\n",
    "        candidate_dirs = []\n",
    "        suffix_query = '.{}.nc'.format(dataset.name_in_model)\n",
    "        for component in cmpts:\n",
    "            subdir_rel = os.path.join(component, 'ts', dataset.date_freq.format_frepp())\n",
    "            subdir_abs = os.path.join(root_dir, subdir_rel)\n",
    "            if not os.path.exists(subdir_abs):\n",
    "                continue\n",
    "            chunk_freqs = [d for d in os.listdir(subdir_abs) if not d.startswith('.')]\n",
    "            for freq in chunk_freqs:\n",
    "                paths = util.run_command([\n",
    "                    'find', os.path.join(subdir_abs, freq), '-name', '*'+suffix_query, '-print', '-quit'\n",
    "                ])\n",
    "                if paths:\n",
    "                    candidate_dirs.append(os.path.join(subdir_rel, freq))\n",
    "        if not candidate_dirs:\n",
    "            raise DataQueryFailure(dataset, 'No files found in {}'.format(root_dir))\n",
    "\n",
    "        for d in candidate_dirs:\n",
    "            files = [dm.parse_pp_path(f) for f in os.listdir(os.path.join(root_dir,d)) \\\n",
    "                if f.endswith(suffix_query)]\n",
    "            try:\n",
    "                remote_range = datelabel.DateRange([ds.date_range for ds in files])\n",
    "            except ValueError:\n",
    "                # Something's messed up with remote files if we get here\n",
    "                # should probably log an error\n",
    "                continue\n",
    "            if remote_range.contains(dataset.date_range):\n",
    "                dataset.remote_resource.extend(\n",
    "                    [ds for ds in files if (ds.date_range in dataset.date_range)]\n",
    "                )\n",
    "        if not dataset.remote_resource:\n",
    "            raise DataQueryFailure(dataset, \n",
    "                \"Couldn't cover date range {} with files in {}\".format(\n",
    "                    dataset.date_range, root_dir))"
   ]
  },
  {
   "cell_type": "code",
   "execution_count": 36,
   "metadata": {},
   "outputs": [
    {
     "ename": "ValueError",
     "evalue": "",
     "output_type": "error",
     "traceback": [
      "\u001b[0;31m---------------------------------------------------------------------------\u001b[0m",
      "\u001b[0;31mValueError\u001b[0m                                Traceback (most recent call last)",
      "\u001b[0;32m<ipython-input-36-4c4ec5fd77de>\u001b[0m in \u001b[0;36m<module>\u001b[0;34m()\u001b[0m\n\u001b[0;32m----> 1\u001b[0;31m \u001b[0mquery_dataset2\u001b[0m\u001b[0;34m(\u001b[0m\u001b[0mds\u001b[0m\u001b[0;34m,\u001b[0m \u001b[0mtest_dir\u001b[0m\u001b[0;34m)\u001b[0m\u001b[0;34m\u001b[0m\u001b[0m\n\u001b[0m",
      "\u001b[0;32m<ipython-input-35-2386724b8962>\u001b[0m in \u001b[0;36mquery_dataset2\u001b[0;34m(dataset, root_dir)\u001b[0m\n\u001b[1;32m     24\u001b[0m \u001b[0;34m\u001b[0m\u001b[0m\n\u001b[1;32m     25\u001b[0m     \u001b[0;32mfor\u001b[0m \u001b[0md\u001b[0m \u001b[0;32min\u001b[0m \u001b[0mcandidate_dirs\u001b[0m\u001b[0;34m:\u001b[0m\u001b[0;34m\u001b[0m\u001b[0m\n\u001b[0;32m---> 26\u001b[0;31m         \u001b[0mfiles\u001b[0m \u001b[0;34m=\u001b[0m \u001b[0;34m[\u001b[0m\u001b[0mdm\u001b[0m\u001b[0;34m.\u001b[0m\u001b[0mparse_pp_path\u001b[0m\u001b[0;34m(\u001b[0m\u001b[0mf\u001b[0m\u001b[0;34m)\u001b[0m \u001b[0;32mfor\u001b[0m \u001b[0mf\u001b[0m \u001b[0;32min\u001b[0m \u001b[0mos\u001b[0m\u001b[0;34m.\u001b[0m\u001b[0mlistdir\u001b[0m\u001b[0;34m(\u001b[0m\u001b[0mos\u001b[0m\u001b[0;34m.\u001b[0m\u001b[0mpath\u001b[0m\u001b[0;34m.\u001b[0m\u001b[0mjoin\u001b[0m\u001b[0;34m(\u001b[0m\u001b[0mroot_dir\u001b[0m\u001b[0;34m,\u001b[0m\u001b[0md\u001b[0m\u001b[0;34m)\u001b[0m\u001b[0;34m)\u001b[0m             \u001b[0;32mif\u001b[0m \u001b[0mf\u001b[0m\u001b[0;34m.\u001b[0m\u001b[0mendswith\u001b[0m\u001b[0;34m(\u001b[0m\u001b[0msuffix_query\u001b[0m\u001b[0;34m)\u001b[0m\u001b[0;34m]\u001b[0m\u001b[0;34m\u001b[0m\u001b[0m\n\u001b[0m\u001b[1;32m     27\u001b[0m         \u001b[0;32mtry\u001b[0m\u001b[0;34m:\u001b[0m\u001b[0;34m\u001b[0m\u001b[0m\n\u001b[1;32m     28\u001b[0m             \u001b[0mremote_range\u001b[0m \u001b[0;34m=\u001b[0m \u001b[0mdatelabel\u001b[0m\u001b[0;34m.\u001b[0m\u001b[0mDateRange\u001b[0m\u001b[0;34m(\u001b[0m\u001b[0;34m[\u001b[0m\u001b[0mds\u001b[0m\u001b[0;34m.\u001b[0m\u001b[0mdate_range\u001b[0m \u001b[0;32mfor\u001b[0m \u001b[0mds\u001b[0m \u001b[0;32min\u001b[0m \u001b[0mfiles\u001b[0m\u001b[0;34m]\u001b[0m\u001b[0;34m)\u001b[0m\u001b[0;34m\u001b[0m\u001b[0m\n",
      "\u001b[0;32m/local2/home/MDTF/MDTF-diagnostics/src/gfdl.py\u001b[0m in \u001b[0;36mparse_pp_path\u001b[0;34m(self, path)\u001b[0m\n\u001b[1;32m    166\u001b[0m             \u001b[0mds\u001b[0m\u001b[0;34m.\u001b[0m\u001b[0mchunk_freq\u001b[0m \u001b[0;34m=\u001b[0m \u001b[0mdatelabel\u001b[0m\u001b[0;34m.\u001b[0m\u001b[0mDateFrequency\u001b[0m\u001b[0;34m(\u001b[0m\u001b[0mds\u001b[0m\u001b[0;34m.\u001b[0m\u001b[0mchunk_freq\u001b[0m\u001b[0;34m)\u001b[0m\u001b[0;34m\u001b[0m\u001b[0m\n\u001b[1;32m    167\u001b[0m             \u001b[0;32mreturn\u001b[0m \u001b[0mds\u001b[0m\u001b[0;34m\u001b[0m\u001b[0m\n\u001b[0;32m--> 168\u001b[0;31m         \u001b[0;32melse\u001b[0m\u001b[0;34m:\u001b[0m\u001b[0;34m\u001b[0m\u001b[0m\n\u001b[0m\u001b[1;32m    169\u001b[0m             \u001b[0;32mraise\u001b[0m \u001b[0mValueError\u001b[0m\u001b[0;34m\u001b[0m\u001b[0m\n\u001b[1;32m    170\u001b[0m \u001b[0;34m\u001b[0m\u001b[0m\n",
      "\u001b[0;31mValueError\u001b[0m: "
     ]
    }
   ],
   "source": [
    "query_dataset2(ds, test_dir)"
   ]
  },
  {
   "cell_type": "code",
   "execution_count": null,
   "metadata": {},
   "outputs": [],
   "source": []
  }
 ],
 "metadata": {
  "kernelspec": {
   "display_name": "Python 2",
   "language": "python",
   "name": "python2"
  },
  "language_info": {
   "codemirror_mode": {
    "name": "ipython",
    "version": 2
   },
   "file_extension": ".py",
   "mimetype": "text/x-python",
   "name": "python",
   "nbconvert_exporter": "python",
   "pygments_lexer": "ipython2",
   "version": "2.7.15"
  }
 },
 "nbformat": 4,
 "nbformat_minor": 2
}
